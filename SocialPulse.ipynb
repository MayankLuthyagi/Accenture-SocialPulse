from selenium import webdriver
from selenium.webdriver.common.by import By
import time
import pandas as pd

# Initialize WebDriver
driver = webdriver.Chrome(executable_path='C:/Users/MAYANK/Downloads/chromedriver-win64/chromedriver-win64/chromedriver.exe')

# Function to log in and scrape data
def scrape_instagram():
    driver.get('https://www.instagram.com/accounts/login/')
    
    # Login
    time.sleep(2)
    driver.find_element(By.NAME, 'username').send_keys('9911567710')
    driver.find_element(By.NAME, 'password').send_keys('luthyagi12')
    driver.find_element(By.NAME, 'password').submit()
    
    # Wait for login to complete
    time.sleep(5)
    
    # Navigate to a hashtag or profile
    driver.get('https://www.instagram.com/accenture/')
scrape_instagram()
import pandas as pd

# Load data
df = pd.read_csv('instagram_posts.csv')

# Basic cleaning
df['post'] = df['post'].str.lower()  # Convert to lowercase
df['post'] = df['post'].str.replace('[^\w\s]', '')  # Remove punctuation
df['post'] = df['post'].str.replace('\d+', '')  # Remove numbers

# Further cleaning can be done as needed
from textblob import TextBlob

# Function to get sentiment
def get_sentiment(text):
    blob = TextBlob(text)
    return blob.sentiment.polarity

# Apply sentiment analysis
df['sentiment'] = df['post'].apply(get_sentiment)

# Categorize sentiments
df['sentiment_category'] = pd.cut(df['sentiment'], bins=[-1, -0.1, 0.1, 1], labels=['Negative', 'Neutral', 'Positive'])

# Save results
df.to_csv('instagram_posts_with_sentiment.csv', index=False)
import matplotlib.pyplot as plt
import seaborn as sns

# Load data
df = pd.read_csv('instagram_posts_with_sentiment.csv')

# Plot sentiment distribution
sns.countplot(x='sentiment_category', data=df)
plt.title('Sentiment Analysis of Instagram Posts')
plt.xlabel('Sentiment')
plt.ylabel('Count')
plt.show()
