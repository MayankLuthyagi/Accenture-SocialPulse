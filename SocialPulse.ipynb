{
 "cells": [
  {
   "cell_type": "code",
   "execution_count": 2,
   "id": "9c14418c",
   "metadata": {
    "scrolled": false
   },
   "outputs": [
    {
     "name": "stderr",
     "output_type": "stream",
     "text": [
      "C:\\Users\\MAYANK\\AppData\\Local\\Temp\\ipykernel_16464\\1074027958.py:7: DeprecationWarning: executable_path has been deprecated, please pass in a Service object\n",
      "  driver = webdriver.Chrome(executable_path='C:/Users/MAYANK/Downloads/chromedriver-win64/chromedriver-win64/chromedriver.exe')\n"
     ]
    }
   ],
   "source": [
    "from selenium import webdriver\n",
    "from selenium.webdriver.common.by import By\n",
    "import time\n",
    "import pandas as pd\n",
    "\n",
    "# Initialize WebDriver\n",
    "driver = webdriver.Chrome(executable_path='C:/Users/MAYANK/Downloads/chromedriver-win64/chromedriver-win64/chromedriver.exe')\n",
    "\n",
    "# Function to log in and scrape data\n",
    "def scrape_instagram():\n",
    "    driver.get('https://www.instagram.com/accounts/login/')\n",
    "    \n",
    "    # Login\n",
    "    time.sleep(2)\n",
    "    driver.find_element(By.NAME, 'username').send_keys('your_username')\n",
    "    driver.find_element(By.NAME, 'password').send_keys('your_password')\n",
    "    driver.find_element(By.NAME, 'password').submit()\n",
    "    \n",
    "    # Wait for login to complete\n",
    "    time.sleep(5)\n",
    "    \n",
    "    # Navigate to a hashtag or profile\n",
    "    driver.get('https://www.instagram.com/explore/tags/examplehashtag/')\n",
    "    \n",
    "    time.sleep(2)\n",
    "    \n",
    "    # Scrape posts\n",
    "    posts = []\n",
    "    for _ in range(10):  # Adjust range for more posts\n",
    "        elements = driver.find_elements(By.CLASS_NAME, 'C4VMK')  # Adjust based on the structure\n",
    "        for el in elements:\n",
    "            posts.append(el.text)\n",
    "        driver.execute_script(\"window.scrollTo(0, document.body.scrollHeight);\")\n",
    "        time.sleep(2)\n",
    "    \n",
    "    driver.quit()\n",
    "    \n",
    "    # Save data to a DataFrame\n",
    "    df = pd.DataFrame(posts, columns=['post'])\n",
    "    df.to_csv('instagram_posts.csv', index=False)\n",
    "\n",
    "scrape_instagram()\n"
   ]
  },
  {
   "cell_type": "code",
   "execution_count": null,
   "id": "6fd1e493",
   "metadata": {},
   "outputs": [],
   "source": [
    "import pandas as pd\n",
    "\n",
    "# Load data\n",
    "df = pd.read_csv('instagram_posts.csv')\n",
    "\n",
    "# Basic cleaning\n",
    "df['post'] = df['post'].str.lower()  # Convert to lowercase\n",
    "df['post'] = df['post'].str.replace('[^\\w\\s]', '')  # Remove punctuation\n",
    "df['post'] = df['post'].str.replace('\\d+', '')  # Remove numbers\n",
    "\n",
    "# Further cleaning can be done as needed\n"
   ]
  },
  {
   "cell_type": "code",
   "execution_count": null,
   "id": "b175e904",
   "metadata": {},
   "outputs": [],
   "source": [
    "from textblob import TextBlob\n",
    "\n",
    "# Function to get sentiment\n",
    "def get_sentiment(text):\n",
    "    blob = TextBlob(text)\n",
    "    return blob.sentiment.polarity\n",
    "\n",
    "# Apply sentiment analysis\n",
    "df['sentiment'] = df['post'].apply(get_sentiment)\n",
    "\n",
    "# Categorize sentiments\n",
    "df['sentiment_category'] = pd.cut(df['sentiment'], bins=[-1, -0.1, 0.1, 1], labels=['Negative', 'Neutral', 'Positive'])\n",
    "\n",
    "# Save results\n",
    "df.to_csv('instagram_posts_with_sentiment.csv', index=False)\n"
   ]
  },
  {
   "cell_type": "code",
   "execution_count": null,
   "id": "e690efa9",
   "metadata": {},
   "outputs": [],
   "source": [
    "import matplotlib.pyplot as plt\n",
    "import seaborn as sns\n",
    "\n",
    "# Load data\n",
    "df = pd.read_csv('instagram_posts_with_sentiment.csv')\n",
    "\n",
    "# Plot sentiment distribution\n",
    "sns.countplot(x='sentiment_category', data=df)\n",
    "plt.title('Sentiment Analysis of Instagram Posts')\n",
    "plt.xlabel('Sentiment')\n",
    "plt.ylabel('Count')\n",
    "plt.show()\n"
   ]
  }
 ],
 "metadata": {
  "kernelspec": {
   "display_name": "Python 3 (ipykernel)",
   "language": "python",
   "name": "python3"
  },
  "language_info": {
   "codemirror_mode": {
    "name": "ipython",
    "version": 3
   },
   "file_extension": ".py",
   "mimetype": "text/x-python",
   "name": "python",
   "nbconvert_exporter": "python",
   "pygments_lexer": "ipython3",
   "version": "3.9.12"
  }
 },
 "nbformat": 4,
 "nbformat_minor": 5
}
